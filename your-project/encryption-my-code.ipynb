{
 "cells": [
  {
   "cell_type": "markdown",
   "metadata": {},
   "source": [
    "### Choosing whether to encrypt or decrypt"
   ]
  },
  {
   "cell_type": "code",
   "execution_count": 13,
   "metadata": {},
   "outputs": [
    {
     "name": "stdout",
     "output_type": "stream",
     "text": [
      "Do you want to encrypt or decrypt? (0 to encrypt / 1 to decrypt): 9\n",
      "Your input must be '0' or '1'\n",
      "Do you want to encrypt or decrypt? (type 0 to encrypt or 1 to decrypt): 0\n"
     ]
    }
   ],
   "source": [
    "options = [0,1]\n",
    "encrypt_or_decrypt = int(input(\"Do you want to encrypt or decrypt? (0 to encrypt / 1 to decrypt): \"))\n",
    "\n",
    "while encrypt_or_decrypt not in options:\n",
    "    print(\"Your input must be '0' or '1'\")\n",
    "    encrypt_or_decrypt = int(input(\"Do you want to encrypt or decrypt? (type 0 to encrypt or 1 to decrypt): \"))"
   ]
  },
  {
   "cell_type": "markdown",
   "metadata": {},
   "source": [
    "### Inserting the message to encrypt/decrypt"
   ]
  },
  {
   "cell_type": "code",
   "execution_count": 14,
   "metadata": {},
   "outputs": [
    {
     "name": "stdout",
     "output_type": "stream",
     "text": [
      "Insert the text you want to encrypt: hellowa\n"
     ]
    }
   ],
   "source": [
    "if encrypt_or_decrypt == 0:\n",
    "    doing = 'encrypt'\n",
    "else:\n",
    "    doing = 'decrypt'\n",
    "\n",
    "message = input(f\"Insert the text you want to {doing}: \")"
   ]
  },
  {
   "cell_type": "markdown",
   "metadata": {},
   "source": [
    "### Creating the encrypting dictionary "
   ]
  }
 ],
 "metadata": {
  "kernelspec": {
   "display_name": "Python 3",
   "language": "python",
   "name": "python3"
  },
  "language_info": {
   "codemirror_mode": {
    "name": "ipython",
    "version": 3
   },
   "file_extension": ".py",
   "mimetype": "text/x-python",
   "name": "python",
   "nbconvert_exporter": "python",
   "pygments_lexer": "ipython3",
   "version": "3.7.3"
  }
 },
 "nbformat": 4,
 "nbformat_minor": 2
}

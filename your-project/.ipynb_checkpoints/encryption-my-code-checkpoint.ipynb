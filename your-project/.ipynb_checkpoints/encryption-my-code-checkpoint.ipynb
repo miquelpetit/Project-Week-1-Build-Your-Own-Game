{
 "cells": [
  {
   "cell_type": "markdown",
   "metadata": {},
   "source": [
    "### Choosing whether to encrypt or decrypt"
   ]
  },
  {
   "cell_type": "code",
   "execution_count": 24,
   "metadata": {},
   "outputs": [
    {
     "name": "stdout",
     "output_type": "stream",
     "text": [
      "Type 0 to encrypt or 1 to decrypt: hola\n",
      "ERROR! Your input is not numeric.\n"
     ]
    },
    {
     "ename": "SystemExit",
     "evalue": "",
     "output_type": "error",
     "traceback": [
      "An exception has occurred, use %tb to see the full traceback.\n",
      "\u001b[0;31mSystemExit\u001b[0m\n"
     ]
    }
   ],
   "source": [
    "import sys\n",
    "import random\n",
    "\n",
    "choicestring = ''\n",
    "\n",
    "def enc_or_dec(choice = input('Type 0 to encrypt or 1 to decrypt: ')):\n",
    "    options = [0,1]\n",
    "    if choice.isnumeric():\n",
    "        choice = int(choice)\n",
    "        if choice not in options:\n",
    "            print(\"Your input is numeric but not '0' or '1'.\")\n",
    "            sys.exit()\n",
    "        else:\n",
    "            if choice == 0:\n",
    "                choicestring = 'encrypt'\n",
    "            else:\n",
    "                choicestring = 'decrypt'\n",
    "        return print(f'You chose to {choicestring}.')\n",
    "    else:\n",
    "        print('ERROR! Your input is not numeric.')\n",
    "        sys.exit()\n",
    "\n",
    "enc_or_dec()"
   ]
  },
  {
   "cell_type": "markdown",
   "metadata": {},
   "source": [
    "### Inserting the message to encrypt/decrypt"
   ]
  },
  {
   "cell_type": "code",
   "execution_count": 14,
   "metadata": {},
   "outputs": [
    {
     "name": "stdout",
     "output_type": "stream",
     "text": [
      "Insert the text you want to encrypt: hellowa\n"
     ]
    }
   ],
   "source": [
    "if encrypt_or_decrypt == 0:\n",
    "    doing = 'encrypt'\n",
    "else:\n",
    "    doing = 'decrypt'\n",
    "\n",
    "message = input(f\"Insert the text you want to {doing}: \")"
   ]
  },
  {
   "cell_type": "markdown",
   "metadata": {},
   "source": [
    "### Creating the encrypting dictionary "
   ]
  }
 ],
 "metadata": {
  "kernelspec": {
   "display_name": "Python 3",
   "language": "python",
   "name": "python3"
  },
  "language_info": {
   "codemirror_mode": {
    "name": "ipython",
    "version": 3
   },
   "file_extension": ".py",
   "mimetype": "text/x-python",
   "name": "python",
   "nbconvert_exporter": "python",
   "pygments_lexer": "ipython3",
   "version": "3.7.3"
  }
 },
 "nbformat": 4,
 "nbformat_minor": 2
}

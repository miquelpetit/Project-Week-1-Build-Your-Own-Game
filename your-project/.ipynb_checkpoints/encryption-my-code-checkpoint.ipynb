{
 "cells": [
  {
   "cell_type": "markdown",
   "metadata": {},
   "source": [
    "### Choosing whether to encrypt or decrypt"
   ]
  },
  {
   "cell_type": "code",
   "execution_count": 30,
   "metadata": {},
   "outputs": [
    {
     "name": "stdout",
     "output_type": "stream",
     "text": [
      "Type 0 to encrypt or 1 to decrypt: 0\n",
      "You chose to encrypt.\n"
     ]
    },
    {
     "data": {
      "text/plain": [
       "(None, 'encrypt')"
      ]
     },
     "execution_count": 30,
     "metadata": {},
     "output_type": "execute_result"
    }
   ],
   "source": [
    "import sys\n",
    "\n",
    "choicestring = ''\n",
    "\n",
    "def enc_or_dec(choice = input('Type 0 to encrypt or 1 to decrypt: ')):\n",
    "    options = [0,1]\n",
    "    if choice.isnumeric():\n",
    "        choice = int(choice)\n",
    "        if choice not in options:\n",
    "            print(\"Your input is numeric but not '0' or '1'.\")\n",
    "            sys.exit()\n",
    "        else:\n",
    "            if choice == 0:\n",
    "                choicestring = 'encrypt'\n",
    "            else:\n",
    "                choicestring = 'decrypt'\n",
    "        return (print(f'You chose to {choicestring}.'), choicestring)\n",
    "    else:\n",
    "        print('ERROR! Your input is not numeric.')\n",
    "        sys.exit()\n",
    "\n",
    "enc_or_dec()"
   ]
  },
  {
   "cell_type": "markdown",
   "metadata": {},
   "source": [
    "### Inserting the message to encrypt/decrypt"
   ]
  },
  {
   "cell_type": "code",
   "execution_count": 60,
   "metadata": {},
   "outputs": [
    {
     "name": "stdout",
     "output_type": "stream",
     "text": [
      "Insert the text you want to : ezrxdfcghvjbkno9w87re6tovdblÑN'\n"
     ]
    }
   ],
   "source": [
    "text = input(f'Insert the text you want to {choicestring}: ')"
   ]
  },
  {
   "cell_type": "markdown",
   "metadata": {},
   "source": [
    "### Creating the encryption dictionary "
   ]
  },
  {
   "cell_type": "code",
   "execution_count": 63,
   "metadata": {},
   "outputs": [],
   "source": [
    "import string\n",
    "import random\n",
    "\n",
    "ALLCHARACTERS = []\n",
    "ALLCHARACTERS += list(string.printable)\n",
    "\n",
    "RANDCHARACTERS = ['\\n', ':', 'W', '.', '`', '>', '<', 'E', '}', '5', 'i', 'n', 'u', 'X', 'a', '2', ';', '*', '!', 'K', 'U', 'S', '+', 'V', 'Q', 'p', '9', 'P', ',', '?', '7', 'o', '(', 'Z', '#', 'A', '\\\\', '^', 'I', '=', '$', '4', 'm', 'v', '-', '3', '1', '\\x0b', '8', 'H', 'O', '\"', 'r', 'T', 'F', 'b', '6', 'z', 'l', 'D', ']', '_', 'q', 'j', '%', \"'\", 'L', 'R', 'C', '[', 'e', '&', '~', 't', 'k', '@', 'x', 'h', '|', 'G', 's', 'M', 'g', '\\t', 'Y', '\\r', 'd', '/', ')', 'c', ' ', '\\x0c', 'w', 'y', 'N', 'B', '{', 'J', 'f', '0']\n",
    "\n",
    "DICTENCRYPTED = {}\n",
    "\n",
    "for i in range(len(ALLCHARACTERS)):\n",
    "    DICTENCRYPTED[ALLCHARACTERS[i]] = RANDCHARACTERS[i]\n"
   ]
  },
  {
   "cell_type": "markdown",
   "metadata": {},
   "source": [
    "### Creating the function to encrypt"
   ]
  },
  {
   "cell_type": "code",
   "execution_count": null,
   "metadata": {},
   "outputs": [],
   "source": [
    "\n",
    "        "
   ]
  }
 ],
 "metadata": {
  "kernelspec": {
   "display_name": "Python 3",
   "language": "python",
   "name": "python3"
  },
  "language_info": {
   "codemirror_mode": {
    "name": "ipython",
    "version": 3
   },
   "file_extension": ".py",
   "mimetype": "text/x-python",
   "name": "python",
   "nbconvert_exporter": "python",
   "pygments_lexer": "ipython3",
   "version": "3.7.3"
  }
 },
 "nbformat": 4,
 "nbformat_minor": 2
}

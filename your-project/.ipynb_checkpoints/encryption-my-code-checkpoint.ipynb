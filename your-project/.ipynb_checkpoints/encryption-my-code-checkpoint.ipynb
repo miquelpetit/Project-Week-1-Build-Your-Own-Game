{
 "cells": [
  {
   "cell_type": "markdown",
   "metadata": {},
   "source": [
    "### Choosing whether to encrypt or decrypt"
   ]
  },
  {
   "cell_type": "code",
   "execution_count": 30,
   "metadata": {},
   "outputs": [
    {
     "name": "stdout",
     "output_type": "stream",
     "text": [
      "Type 0 to encrypt or 1 to decrypt: 0\n",
      "You chose to encrypt.\n"
     ]
    },
    {
     "data": {
      "text/plain": [
       "(None, 'encrypt')"
      ]
     },
     "execution_count": 30,
     "metadata": {},
     "output_type": "execute_result"
    }
   ],
   "source": [
    "import sys\n",
    "import random\n",
    "\n",
    "choicestring = ''\n",
    "\n",
    "def enc_or_dec(choice = input('Type 0 to encrypt or 1 to decrypt: ')):\n",
    "    options = [0,1]\n",
    "    if choice.isnumeric():\n",
    "        choice = int(choice)\n",
    "        if choice not in options:\n",
    "            print(\"Your input is numeric but not '0' or '1'.\")\n",
    "            sys.exit()\n",
    "        else:\n",
    "            if choice == 0:\n",
    "                choicestring = 'encrypt'\n",
    "            else:\n",
    "                choicestring = 'decrypt'\n",
    "        return (print(f'You chose to {choicestring}.'), choicestring)\n",
    "    else:\n",
    "        print('ERROR! Your input is not numeric.')\n",
    "        sys.exit()\n",
    "\n",
    "enc_or_dec()"
   ]
  },
  {
   "cell_type": "markdown",
   "metadata": {},
   "source": [
    "### Inserting the message to encrypt/decrypt"
   ]
  },
  {
   "cell_type": "code",
   "execution_count": 31,
   "metadata": {},
   "outputs": [
    {
     "name": "stdout",
     "output_type": "stream",
     "text": [
      "Insert the text you want to : HODVNAONDVOANNnj\n"
     ]
    }
   ],
   "source": [
    "text = input(f'Insert the text you want to {choicestring}: ')\n"
   ]
  },
  {
   "cell_type": "markdown",
   "metadata": {},
   "source": [
    "### Creating the encryption dictionary "
   ]
  },
  {
   "cell_type": "code",
   "execution_count": null,
   "metadata": {},
   "outputs": [],
   "source": []
  }
 ],
 "metadata": {
  "kernelspec": {
   "display_name": "Python 3",
   "language": "python",
   "name": "python3"
  },
  "language_info": {
   "codemirror_mode": {
    "name": "ipython",
    "version": 3
   },
   "file_extension": ".py",
   "mimetype": "text/x-python",
   "name": "python",
   "nbconvert_exporter": "python",
   "pygments_lexer": "ipython3",
   "version": "3.7.3"
  }
 },
 "nbformat": 4,
 "nbformat_minor": 2
}
